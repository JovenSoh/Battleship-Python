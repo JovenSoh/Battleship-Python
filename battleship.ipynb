{
 "cells": [
  {
   "cell_type": "code",
   "execution_count": 1,
   "metadata": {},
   "outputs": [],
   "source": [
    "from IPython.display import clear_output\n",
    "\n",
    "def place_ship(board, ship,alignment,position):\n",
    "    position = position.lower()\n",
    "    coordinates = [0,0]\n",
    "    coordinates[0] = ord(position[0]) - 97\n",
    "    coordinates[1] = int(position[1:3]) - 1\n",
    "    if alignment == 1: #Vertical\n",
    "        if coordinates[1] < 10 and coordinates[0] < 11 - ship:\n",
    "            for tmp in range(ship):\n",
    "                if board[coordinates[0] + tmp][coordinates[1]] == 1:\n",
    "                    print(\"Ship overlaps!\")\n",
    "                    return False\n",
    "            for tmp in range(ship):\n",
    "                board[coordinates[0]+tmp][coordinates[1]] = 1\n",
    "        else:\n",
    "            print (\"Ship exceeds board!\")\n",
    "            return False\n",
    "    elif alignment == 2: #Horizontal\n",
    "        if coordinates[1] < 11 - ship and coordinates[0] < 10:\n",
    "            for tmp in range(ship):\n",
    "                if board[coordinates[0]][coordinates[1]+tmp] == 1:\n",
    "                    print(\"Ship overlaps!\")\n",
    "                    return False\n",
    "            for tmp in range(ship):\n",
    "                board[coordinates[0]][coordinates[1]+tmp] = 1\n",
    "        else:\n",
    "            print (\"Ship exceeds board!\") \n",
    "            return False\n",
    "    else:\n",
    "        print(\"Invalid alignment!\")\n",
    "        return False\n",
    "    return board\n",
    "\n",
    "def display(board):\n",
    "    print(\"\\t1\\t2\\t3\\t4\\t5\\t6\\t7\\t8\\t9\\t10\")\n",
    "    for row in range(10):\n",
    "        print(chr(row+65),\"\\t\", end=\"\")\n",
    "        for column in range(10):\n",
    "            if board[row][column] == 1:\n",
    "                print(\"*\\t\",end = \"\")\n",
    "            elif board[row][column] == 0:\n",
    "                print(\"o\\t\",end = \"\")\n",
    "        print()\n",
    "        print()"
   ]
  },
  {
   "cell_type": "code",
   "execution_count": 6,
   "metadata": {},
   "outputs": [
    {
     "name": "stdout",
     "output_type": "stream",
     "text": [
      "\t\t\t\tCurrent Board\n",
      "\t1\t2\t3\t4\t5\t6\t7\t8\t9\t10\n",
      "A \to\t*\t*\t*\t*\to\to\to\to\to\t\n",
      "\n",
      "B \to\t*\to\to\to\to\to\to\to\to\t\n",
      "\n",
      "C \to\t*\to\to\to\to\to\to\to\to\t\n",
      "\n",
      "D \to\t*\to\to\to\to\to\to\to\to\t\n",
      "\n",
      "E \to\t*\to\to\to\to\to\to\to\to\t\n",
      "\n",
      "F \to\to\to\to\to\to\to\to\to\to\t\n",
      "\n",
      "G \to\to\to\to\to\to\to\to\to\to\t\n",
      "\n",
      "H \to\to\to\to\to\to\to\to\to\to\t\n",
      "\n",
      "I \to\to\to\to\to\to\to\to\to\to\t\n",
      "\n",
      "J \to\to\to\to\to\to\to\to\to\to\t\n",
      "\n"
     ]
    }
   ],
   "source": [
    "#Board Creation\n",
    "board = [[0,0,0,0,0,0,0,0,0,0],\n",
    "        [0,0,0,0,0,0,0,0,0,0],\n",
    "        [0,0,0,0,0,0,0,0,0,0],\n",
    "        [0,0,0,0,0,0,0,0,0,0],\n",
    "        [0,0,0,0,0,0,0,0,0,0],\n",
    "        [0,0,0,0,0,0,0,0,0,0],\n",
    "        [0,0,0,0,0,0,0,0,0,0],\n",
    "        [0,0,0,0,0,0,0,0,0,0],\n",
    "        [0,0,0,0,0,0,0,0,0,0],\n",
    "        [0,0,0,0,0,0,0,0,0,0],]\n",
    "\n",
    "# (1) Vertical\n",
    "# (2) Horizontal\n",
    "ship_length = [3,5]\n",
    "placed = False\n",
    "for ship in ship_length:\n",
    "    while placed == False:\n",
    "        print(\"Length of ship:\", ship)\n",
    "        print()\n",
    "        print(\"(1) Vertical \\n(2) Horizontal\")\n",
    "        alignment = int(input(\"Choose alignment of ship: \"))\n",
    "\n",
    "        position = str(input(\"Pick position to place ship: \"))\n",
    "        print()\n",
    "        if type(place_ship(board,ship,alignment,position)) == list:\n",
    "            placed = True\n",
    "    placed = False\n",
    "    clear_output()\n",
    "\n",
    "print(\"\\t\\t\\t\\tCurrent Board\")\n",
    "display(board)\n",
    "\n"
   ]
  },
  {
   "cell_type": "code",
   "execution_count": null,
   "metadata": {},
   "outputs": [],
   "source": [
    "## if place_ship(board,ship,alignment,position):\n",
    "    print(\"hi\")"
   ]
  },
  {
   "cell_type": "code",
   "execution_count": null,
   "metadata": {},
   "outputs": [],
   "source": [
    "ord(\"A\")"
   ]
  }
 ],
 "metadata": {
  "kernelspec": {
   "display_name": "Python 3",
   "language": "python",
   "name": "python3"
  },
  "language_info": {
   "codemirror_mode": {
    "name": "ipython",
    "version": 3
   },
   "file_extension": ".py",
   "mimetype": "text/x-python",
   "name": "python",
   "nbconvert_exporter": "python",
   "pygments_lexer": "ipython3",
   "version": "3.7.2"
  }
 },
 "nbformat": 4,
 "nbformat_minor": 2
}
